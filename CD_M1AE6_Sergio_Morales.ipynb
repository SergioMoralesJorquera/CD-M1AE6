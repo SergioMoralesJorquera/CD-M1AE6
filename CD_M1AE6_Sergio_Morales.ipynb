{
  "nbformat": 4,
  "nbformat_minor": 0,
  "metadata": {
    "colab": {
      "provenance": [],
      "toc_visible": true
    },
    "kernelspec": {
      "name": "python3",
      "display_name": "Python 3"
    },
    "language_info": {
      "name": "python"
    }
  },
  "cells": [
    {
      "cell_type": "markdown",
      "source": [
        "# CD-M1AE6"
      ],
      "metadata": {
        "id": "TM1uyjIotLxr"
      }
    },
    {
      "cell_type": "markdown",
      "source": [
        "Gestionar el código fuente utilizando GitHub para mantener un\n",
        "repositorio de código remoto seguro y permitir trabajo concurrente."
      ],
      "metadata": {
        "id": "Nr9GWdrytV2i"
      }
    },
    {
      "cell_type": "markdown",
      "source": [
        "1. Instalación de Git\n",
        "2. Configurando Git por primera vez.\n",
        "Git trae una herramienta llamada git config, que te permite obtener y\n",
        "establecer variables de configuración que controlan el aspecto y\n",
        "funcionamiento de Git.\n",
        "3. Tu Identidad.\n",
        "$ git config --global user.name \"John Doe\"\n",
        "$ git config --global user.email johndoe@example.com\n",
        "4. Comprobando tu Configuración.\n",
        "Si quieres comprobar tu configuración, puedes usar el comando git\n",
        "config --list para mostrar todas las propiedades que Git ha\n",
        "configurado.\n",
        "5. Practicar Comandos: git init, git add, git status, git commit, git log,\n",
        "git show, etc"
      ],
      "metadata": {
        "id": "otDorYAjtZCZ"
      }
    },
    {
      "cell_type": "code",
      "execution_count": null,
      "metadata": {
        "id": "kkB0j8k5s5pf"
      },
      "outputs": [],
      "source": []
    }
  ]
}